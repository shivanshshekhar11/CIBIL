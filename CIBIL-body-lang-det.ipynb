{
 "cells": [
  {
   "cell_type": "markdown",
   "metadata": {},
   "source": [
    "## Installing and importing dependencies"
   ]
  },
  {
   "cell_type": "code",
   "execution_count": null,
   "metadata": {},
   "outputs": [],
   "source": [
    "!pip install mediapipe opencv-python pandas scikit-learn"
   ]
  },
  {
   "cell_type": "code",
   "execution_count": null,
   "metadata": {},
   "outputs": [],
   "source": [
    "import mediapipe as mp\n",
    "import cv2"
   ]
  },
  {
   "cell_type": "code",
   "execution_count": null,
   "metadata": {
    "pycharm": {
     "name": "#%%\n"
    }
   },
   "outputs": [],
   "source": [
    "mp_draw = mp.solutions.drawing_utils\n",
    "mp_model = mp.solutions.holistic    #model"
   ]
  },
  {
   "cell_type": "code",
   "execution_count": null,
   "metadata": {},
   "outputs": [],
   "source": [
    "#if you want to customize the results detected by the model\n",
    "#first landmark argument then connection argument in draw_landmarks function as above form\n",
    "\n",
    "mp_draw.DrawingSpec(color=(0,0,255),thickness=2,circle_radius=2)"
   ]
  },
  {
   "cell_type": "markdown",
   "metadata": {},
   "source": [
    "## Extracting result format and testing our initial setup"
   ]
  },
  {
   "cell_type": "code",
   "execution_count": null,
   "metadata": {},
   "outputs": [],
   "source": [
    "cap = cv2.VideoCapture('./test-01.mp4')\n",
    "\n",
    "with mp_model.Holistic(min_detection_confidence=0.5, min_tracking_confidence=0.5) as holistic:\n",
    "    \n",
    "    ret, frame = cap.read()\n",
    "    while ret:    #cap.isOpened():\n",
    "        \n",
    "        #ret, frame = cap.read()\n",
    "        image = cv2.cvtColor(frame, cv2.COLOR_BGR2RGB)\n",
    "        \n",
    "        image.flags.writeable = False\n",
    "        results = holistic.process(image)\n",
    "        #print(results.face_landmarks)\n",
    "        image.flags.writeable = True\n",
    "        \n",
    "        image = cv2.cvtColor(image, cv2.COLOR_RGB2BGR)\n",
    "        \n",
    "        #face\n",
    "        mp_draw.draw_landmarks(image, results.face_landmarks, mp_model.FACEMESH_TESSELATION,\n",
    "                               mp_draw.DrawingSpec(color=(255,0,0),thickness=1,circle_radius=1),\n",
    "                               mp_draw.DrawingSpec(color=(255,255,255),thickness=1,circle_radius=1))\n",
    "        \n",
    "        #pose\n",
    "        mp_draw.draw_landmarks(image, results.pose_landmarks, mp_model.POSE_CONNECTIONS)\n",
    "        \n",
    "        cv2.imshow('Output',image)\n",
    "        cv2.waitKey(1)\n",
    "        \n",
    "        ret, frame = cap.read()\n",
    "        \n",
    "cap.release()\n",
    "cv2.destroyAllWindows()"
   ]
  },
  {
   "cell_type": "code",
   "execution_count": null,
   "metadata": {},
   "outputs": [],
   "source": [
    "'''if cv2.waitKey(25) and 0xff == ord('q'):\n",
    "       break'''"
   ]
  },
  {
   "cell_type": "markdown",
   "metadata": {},
   "source": [
    "## Initializing our training dataset. Which is a CSV file"
   ]
  },
  {
   "cell_type": "code",
   "execution_count": null,
   "metadata": {},
   "outputs": [],
   "source": [
    "import csv\n",
    "import os\n",
    "import numpy as np"
   ]
  },
  {
   "cell_type": "code",
   "execution_count": null,
   "metadata": {},
   "outputs": [],
   "source": [
    "num_cords = len(results.face_landmarks.landmark) + len(results.pose_landmarks.landmark)\n",
    "landmarks = ['class']\n",
    "\n",
    "for i in range(1,num_cords+1):\n",
    "    landmarks += [f'x{str(i)}',f'y{str(i)}',f'z{str(i)}',f'v{str(i)}']"
   ]
  },
  {
   "cell_type": "code",
   "execution_count": null,
   "metadata": {},
   "outputs": [],
   "source": [
    "with open('training-cords.csv',mode='w',newline='') as f:\n",
    "    csv_writer = csv.writer(f, delimiter=',', quotechar='\"', quoting=csv.QUOTE_MINIMAL)\n",
    "    csv_writer.writerow(landmarks)"
   ]
  },
  {
   "cell_type": "markdown",
   "metadata": {},
   "source": [
    "## Adding training data"
   ]
  },
  {
   "cell_type": "code",
   "execution_count": null,
   "metadata": {},
   "outputs": [],
   "source": [
    "cap = cv2.VideoCapture('./Dataset/Train/angry-01.mp4')\n",
    "class_name = 'Angry'\n",
    "\n",
    "with mp_model.Holistic(min_detection_confidence=0.5, min_tracking_confidence=0.5) as holistic:\n",
    "    \n",
    "    ret, frame = cap.read()\n",
    "    while ret:    #cap.isOpened():\n",
    "        \n",
    "        #ret, frame = cap.read()\n",
    "        image = cv2.cvtColor(frame, cv2.COLOR_BGR2RGB)\n",
    "        \n",
    "        image.flags.writeable = False\n",
    "        results = holistic.process(image)\n",
    "        #print(results.face_landmarks)\n",
    "        image.flags.writeable = True\n",
    "        \n",
    "        image = cv2.cvtColor(image, cv2.COLOR_RGB2BGR)\n",
    "        \n",
    "        #face\n",
    "        mp_draw.draw_landmarks(image, results.face_landmarks, mp_model.FACEMESH_TESSELATION,\n",
    "                               mp_draw.DrawingSpec(color=(255,0,0),thickness=1,circle_radius=1),\n",
    "                               mp_draw.DrawingSpec(color=(255,255,255),thickness=1,circle_radius=1))\n",
    "        \n",
    "        #pose\n",
    "        mp_draw.draw_landmarks(image, results.pose_landmarks, mp_model.POSE_CONNECTIONS)\n",
    "        \n",
    "        try:\n",
    "            pose = results.pose_landmarks.landmark\n",
    "            pose_row = np.array([[lm.x,lm.y,lm.z,lm.visibility] for lm in pose]).flatten()\n",
    "\n",
    "            face = results.face_landmarks.landmark\n",
    "            face_row = np.array([[lm.x,lm.y,lm.z,lm.visibility] for lm in face]).flatten()\n",
    "\n",
    "            row = list(pose_row) + list(face_row)\n",
    "            row.insert(0,class_name)\n",
    "\n",
    "            with open('training-cords.csv',mode='a',newline='') as f:\n",
    "                csv_writer = csv.writer(f, delimiter=',', quotechar='\"', quoting=csv.QUOTE_MINIMAL)\n",
    "                csv_writer.writerow(row)\n",
    "        except:\n",
    "            pass\n",
    "\n",
    "        \n",
    "        cv2.imshow('Output',image)\n",
    "        cv2.waitKey(1)\n",
    "        \n",
    "        ret, frame = cap.read()\n",
    "\n",
    "        '''if cv2.waitKey(25) and 0xff == ord('q'):\n",
    "            break'''\n",
    "\n",
    "cap.release()\n",
    "cv2.destroyAllWindows()"
   ]
  },
  {
   "cell_type": "markdown",
   "metadata": {},
   "source": [
    "## Loading and splitting our data for training and testing"
   ]
  },
  {
   "cell_type": "code",
   "execution_count": null,
   "metadata": {},
   "outputs": [],
   "source": [
    "import pandas as pd\n",
    "from sklearn.model_selection import train_test_split"
   ]
  },
  {
   "cell_type": "code",
   "execution_count": null,
   "metadata": {},
   "outputs": [],
   "source": [
    "df = pd.read_csv('training-cords.csv')"
   ]
  },
  {
   "cell_type": "code",
   "execution_count": null,
   "metadata": {},
   "outputs": [],
   "source": [
    "df.head()"
   ]
  },
  {
   "cell_type": "code",
   "execution_count": null,
   "metadata": {},
   "outputs": [],
   "source": [
    "X = df.drop('class',axis=1)    #features\n",
    "Y = df['class']    #target value"
   ]
  },
  {
   "cell_type": "code",
   "execution_count": null,
   "metadata": {},
   "outputs": [],
   "source": [
    "Y    #debug cell"
   ]
  },
  {
   "cell_type": "code",
   "execution_count": null,
   "metadata": {},
   "outputs": [],
   "source": [
    "X_train, X_test, Y_train, Y_test = train_test_split(X,Y, test_size=0.3, random_state=1234)"
   ]
  },
  {
   "cell_type": "code",
   "execution_count": null,
   "metadata": {},
   "outputs": [],
   "source": [
    "Y_test    #debug cell"
   ]
  },
  {
   "cell_type": "markdown",
   "metadata": {},
   "source": [
    "## Training the model"
   ]
  },
  {
   "cell_type": "code",
   "execution_count": null,
   "metadata": {},
   "outputs": [],
   "source": [
    "from sklearn.pipeline import make_pipeline\n",
    "from sklearn.preprocessing import StandardScaler    #pipeline tools\n",
    "\n",
    "from sklearn.linear_model import LogisticRegression, RidgeClassifier\n",
    "from sklearn.ensemble import RandomForestClassifier, GradientBoostingClassifier    #ML algos"
   ]
  },
  {
   "cell_type": "code",
   "execution_count": null,
   "metadata": {},
   "outputs": [],
   "source": [
    "pipelines = {\n",
    "    'lr':make_pipeline(StandardScaler(), LogisticRegression()),\n",
    "    'rc':make_pipeline(StandardScaler(), RidgeClassifier()),\n",
    "    'rf':make_pipeline(StandardScaler(), RandomForestClassifier()),\n",
    "    'gb':make_pipeline(StandardScaler(), GradientBoostingClassifier()),\n",
    "}"
   ]
  },
  {
   "cell_type": "code",
   "execution_count": null,
   "metadata": {},
   "outputs": [],
   "source": [
    "fit_models = {}\n",
    "\n",
    "for algo, pipeline in pipelines.items():\n",
    "    model = pipeline.fit(X_train, Y_train)\n",
    "    fit_models[algo] = model"
   ]
  },
  {
   "cell_type": "code",
   "execution_count": null,
   "metadata": {},
   "outputs": [],
   "source": [
    "fit_models    #debug cell"
   ]
  },
  {
   "cell_type": "markdown",
   "metadata": {},
   "source": [
    "## Testing and serializing obtained models"
   ]
  },
  {
   "cell_type": "code",
   "execution_count": null,
   "metadata": {},
   "outputs": [],
   "source": [
    "from sklearn.metrics import accuracy_score\n",
    "import pickle"
   ]
  },
  {
   "cell_type": "code",
   "execution_count": null,
   "metadata": {},
   "outputs": [],
   "source": [
    "for algo, model in fit_models.items():\n",
    "    yHat = model.predict(X_test)\n",
    "    print(algo,accuracy_score(Y_test,yHat))"
   ]
  },
  {
   "cell_type": "code",
   "execution_count": null,
   "metadata": {},
   "outputs": [],
   "source": [
    "with open('body-lang-det-rf.pkl','wb') as f:    #We are choosing the best model moving forward\n",
    "    pickle.dump(fit_models['rf'], f)            #In this case, RandomForestClassifier"
   ]
  },
  {
   "cell_type": "markdown",
   "metadata": {},
   "source": [
    "## Making detections"
   ]
  },
  {
   "cell_type": "code",
   "execution_count": null,
   "metadata": {},
   "outputs": [],
   "source": []
  },
  {
   "cell_type": "code",
   "execution_count": null,
   "metadata": {},
   "outputs": [],
   "source": []
  },
  {
   "cell_type": "code",
   "execution_count": null,
   "metadata": {},
   "outputs": [],
   "source": []
  },
  {
   "cell_type": "code",
   "execution_count": null,
   "metadata": {},
   "outputs": [],
   "source": []
  },
  {
   "cell_type": "code",
   "execution_count": null,
   "metadata": {},
   "outputs": [],
   "source": []
  },
  {
   "cell_type": "code",
   "execution_count": null,
   "metadata": {},
   "outputs": [],
   "source": []
  },
  {
   "cell_type": "code",
   "execution_count": null,
   "metadata": {},
   "outputs": [],
   "source": []
  }
 ],
 "metadata": {
  "kernelspec": {
   "display_name": "Python 3",
   "language": "python",
   "name": "python3"
  },
  "language_info": {
   "codemirror_mode": {
    "name": "ipython",
    "version": 3
   },
   "file_extension": ".py",
   "mimetype": "text/x-python",
   "name": "python",
   "nbconvert_exporter": "python",
   "pygments_lexer": "ipython3",
   "version": "3.7.6"
  }
 },
 "nbformat": 4,
 "nbformat_minor": 4
}
